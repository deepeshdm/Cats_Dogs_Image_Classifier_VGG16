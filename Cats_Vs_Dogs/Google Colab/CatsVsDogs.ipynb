{
  "nbformat": 4,
  "nbformat_minor": 0,
  "metadata": {
    "colab": {
      "name": "CatsVsDogs.ipynb",
      "provenance": [],
      "collapsed_sections": []
    },
    "kernelspec": {
      "name": "python3",
      "display_name": "Python 3"
    },
    "language_info": {
      "name": "python"
    },
    "accelerator": "GPU"
  },
  "cells": [
    {
      "cell_type": "code",
      "metadata": {
        "colab": {
          "base_uri": "https://localhost:8080/"
        },
        "id": "QjXRAzQ8J2bG",
        "outputId": "c04fa550-f7b4-4fa3-d8a5-c38a20cf1937"
      },
      "source": [
        "import numpy as np\n",
        "import cv2\n",
        "from keras.applications.vgg16 import VGG16\n",
        "from sklearn.model_selection import train_test_split\n",
        "from keras.models import Sequential\n",
        "from keras.callbacks import Callback\n",
        "from keras.layers import Dense,Flatten\n",
        "\n",
        "print(\"All Dependencies Installed\")"
      ],
      "execution_count": 19,
      "outputs": [
        {
          "output_type": "stream",
          "text": [
            "All Dependencies Installed\n"
          ],
          "name": "stdout"
        }
      ]
    },
    {
      "cell_type": "code",
      "metadata": {
        "colab": {
          "base_uri": "https://localhost:8080/"
        },
        "id": "2_ufqd1wJ-Xw",
        "outputId": "ee9c9c4e-477e-4dd8-da0e-00be2a5445d4"
      },
      "source": [
        "# Loading training datasets saved as numpy arrays.\n",
        "x = np.load(\"/content/drive/MyDrive/dog vs cat/Cat_Dog_Images_224x224.npy\")\n",
        "y = np.load(\"/content/drive/MyDrive/dog vs cat/Cat_Dog_Labels.npy\")\n",
        "\n",
        "x_train,x_test,y_train,y_test = train_test_split(x,y,test_size=0.2)\n",
        "\n",
        "print(\"Data Pre-preprocessing Completed !\")"
      ],
      "execution_count": 20,
      "outputs": [
        {
          "output_type": "stream",
          "text": [
            "Data Pre-preprocessing Completed !\n"
          ],
          "name": "stdout"
        }
      ]
    },
    {
      "cell_type": "code",
      "metadata": {
        "colab": {
          "base_uri": "https://localhost:8080/"
        },
        "id": "owbqE5lNKGmt",
        "outputId": "65180fc7-1dfa-4c7f-a17f-361702d082f2"
      },
      "source": [
        "base_model = VGG16(include_top=False,weights=\"imagenet\",input_shape=(224,224,3),pooling=\"max\")\n",
        "\n",
        "# It'll prevent learning of Conv Layers & we'll use pre-trained weights.\n",
        "for layer in base_model.layers:\n",
        "    layer.trainable=False\n",
        "\n",
        "model = Sequential()\n",
        "model.add(base_model)\n",
        "model.add(Flatten())\n",
        "model.add(Dense(100,activation=\"relu\"))\n",
        "model.add(Dense(50,activation=\"relu\"))\n",
        "model.add(Dense(2,activation=\"softmax\"))\n",
        "\n",
        "model.compile(optimizer=\"Adam\",loss=\"categorical_crossentropy\",metrics=[\"accuracy\"])\n",
        "\n",
        "# Custom Keras callback to stop training when certain accuracy is achieved.\n",
        "class MyThresholdCallback(Callback):\n",
        "    def __init__(self, threshold):\n",
        "        super(MyThresholdCallback, self).__init__()\n",
        "        self.threshold = threshold\n",
        "\n",
        "    def on_epoch_end(self, epoch, logs=None):\n",
        "        val_acc = logs[\"val_accuracy\"]\n",
        "        if val_acc >= self.threshold:\n",
        "            self.model.stop_training = True\n",
        "\n",
        "print(\"Model Creation Complete\")"
      ],
      "execution_count": 21,
      "outputs": [
        {
          "output_type": "stream",
          "text": [
            "Model Creation Complete\n"
          ],
          "name": "stdout"
        }
      ]
    },
    {
      "cell_type": "code",
      "metadata": {
        "colab": {
          "base_uri": "https://localhost:8080/"
        },
        "id": "cZxoXtgVKQnO",
        "outputId": "6f66fe21-84e9-4261-b3cf-9407b8eb2087"
      },
      "source": [
        "model.fit(x_train,y_train,epochs=100,batch_size=10,callbacks=[MyThresholdCallback(0.97)],validation_data=(x_test,y_test))\n",
        "\n",
        "# Saving the Model\n",
        "model.save(\"Cats_Vs_Dogs_VGG16\")\n",
        "\n",
        "print(\"Model Training Completed !\")"
      ],
      "execution_count": 22,
      "outputs": [
        {
          "output_type": "stream",
          "text": [
            "Epoch 1/100\n",
            "  6/640 [..............................] - ETA: 36s - loss: 30.7306 - accuracy: 0.4342WARNING:tensorflow:Callback method `on_train_batch_end` is slow compared to the batch time (batch time: 0.0056s vs `on_train_batch_end` time: 0.0552s). Check your callbacks.\n",
            "640/640 [==============================] - 46s 69ms/step - loss: 2.9138 - accuracy: 0.9144 - val_loss: 0.2728 - val_accuracy: 0.9725\n",
            "INFO:tensorflow:Assets written to: Cats_Vs_Dogs_VGG16/assets\n",
            "Model Training Completed !\n"
          ],
          "name": "stdout"
        }
      ]
    },
    {
      "cell_type": "code",
      "metadata": {
        "colab": {
          "base_uri": "https://localhost:8080/"
        },
        "id": "OnH4p_90R-J9",
        "outputId": "4625f776-dc01-4e8d-e4aa-12684fe2700a"
      },
      "source": [
        "# Classifying a single image.\n",
        "from keras.models import load_model\n",
        "\n",
        "model = load_model(\"/content/Cats_Vs_Dogs_VGG16\")\n",
        "\n",
        "img = cv2.imread(\"/content/drive/MyDrive/dog vs cat/dog.4009.jpg\")\n",
        "resized_img = cv2.resize(img,(224,224))\n",
        "img_array = np.asarray(resized_img)\n",
        "\n",
        "# the predict() accepts a 4D array.\n",
        "img = img_array.reshape((-1,224,224,3))\n",
        "\n",
        "predicted = model.predict(img)\n",
        "print(predicted)\n",
        "\n",
        "i = np.argmax(predicted)\n",
        "if i == 0:\n",
        "  print(\"It's a Dog !\")\n",
        "else:\n",
        "  print(\"It's a Cat !\")"
      ],
      "execution_count": 27,
      "outputs": [
        {
          "output_type": "stream",
          "text": [
            "[[1. 0.]]\n",
            "It's a Dog !\n"
          ],
          "name": "stdout"
        }
      ]
    }
  ]
}